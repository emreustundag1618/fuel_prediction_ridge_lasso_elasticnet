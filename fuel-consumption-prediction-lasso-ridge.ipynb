{
 "cells": [
  {
   "cell_type": "markdown",
   "id": "d36da456",
   "metadata": {
    "_cell_guid": "b1076dfc-b9ad-4769-8c92-a6c4dae69d19",
    "_uuid": "8f2839f25d086af736a60e9eeb907d3b93b6e0e5",
    "papermill": {
     "duration": 0.013438,
     "end_time": "2022-11-09T11:47:12.987985",
     "exception": false,
     "start_time": "2022-11-09T11:47:12.974547",
     "status": "completed"
    },
    "tags": []
   },
   "source": [
    "## Fuel Consumption Prediction\n",
    "\n",
    "Outline of the project:\n",
    "\n",
    "* [Introduction](#1)\n",
    "* [Packages & Libraries](#2)\n",
    "* [Import Dataset](#3)\n",
    "* [Missing Values](#4)\n",
    "* [Exploratory Data Analysis (EDA)](#5)\n",
    "* [Outlier Analysis](#6)\n",
    "* [Feature Engineering](#7)\n",
    "    * [Skewness Check](#8)\n",
    "    * [One Hot Encoding](#9)\n",
    "* [Data Preprocessing](#10)\n",
    "    * [Train Test Split](#11)\n",
    "    * [Standardization](#12)\n",
    "* [Model](#13)\n",
    "    * [Linear Regression](#14)\n",
    "    * [Regularization 1: Ridge Regression](#15)\n",
    "    * [Regularization 2: Lasso Regression](#16)\n",
    "    * [Regularization 3: ElasticNet](#17)\n",
    "    * [XGBoost](#18)\n",
    "    * [Averaging Models](#19)"
   ]
  },
  {
   "cell_type": "markdown",
   "id": "5f148083",
   "metadata": {
    "papermill": {
     "duration": 0.012521,
     "end_time": "2022-11-09T11:47:13.011382",
     "exception": false,
     "start_time": "2022-11-09T11:47:12.998861",
     "status": "completed"
    },
    "tags": []
   },
   "source": [
    "<a id = \"1\"></a>\n",
    "### Introduction\n",
    "<img src=\"http://media.flexdealer.com/blog/on1010/images/featured-image-822.jpg\">"
   ]
  },
  {
   "cell_type": "markdown",
   "id": "c34ed64b",
   "metadata": {
    "papermill": {
     "duration": 0.013378,
     "end_time": "2022-11-09T11:47:13.036732",
     "exception": false,
     "start_time": "2022-11-09T11:47:13.023354",
     "status": "completed"
    },
    "tags": []
   },
   "source": [
    "Source: [https://cocolevio.com/how-to-predict-car-fuel-efficiency-using-machine-learning/]\n",
    "\n",
    "The automotive industry is extremely competitive. With increasing fuel prices and picky consumers, automobile makers are constantly optimizing their processes to increase fuel efficiency. But, what if you could have a reliable estimator for a car’s mpg given some known specifications about the vehicle? Then, you could beat a competitor to market by both having a more desirable vehicle that is also more efficient, reducing wasted R&D costs and gaining large chunks of the market.\n",
    "\n",
    "In this kernel, I will apply a prediction app using auto-mpg dataset. The app and the data used is very easy to understand. I will explain them on 'import dataset' section. Before training linear regression model I will analyse missing values and outliers. Then feature engineering step come and this step I will check skewness for each numerical variables' distributions. For categorical features that have more than two labels I will encode the features by one hot encoding. In data preprocessing stage, I will prepare data for machine learning model via splitting data into train and test. To avoid bias against the features that have bigger values relative to others and to bring features to the same space, standardization is very important term. In modelling part, firstly I will perform a linear regression model via statmodels library. To increase model's performance, regularization techniques such as ridge regression, lasso regression and elasticnet. Finally, I will finish the app using XGBoost and averaging models."
   ]
  },
  {
   "cell_type": "markdown",
   "id": "487949d6",
   "metadata": {
    "papermill": {
     "duration": 0.012528,
     "end_time": "2022-11-09T11:47:13.063427",
     "exception": false,
     "start_time": "2022-11-09T11:47:13.050899",
     "status": "completed"
    },
    "tags": []
   },
   "source": [
    "<a id = \"2\"></a>\n",
    "### Packages & Libraries"
   ]
  },
  {
   "cell_type": "code",
   "execution_count": 1,
   "id": "fbd4a6ae",
   "metadata": {
    "execution": {
     "iopub.execute_input": "2022-11-09T11:47:13.098598Z",
     "iopub.status.busy": "2022-11-09T11:47:13.097411Z",
     "iopub.status.idle": "2022-11-09T11:47:14.637534Z",
     "shell.execute_reply": "2022-11-09T11:47:14.636367Z"
    },
    "papermill": {
     "duration": 1.561971,
     "end_time": "2022-11-09T11:47:14.640708",
     "exception": false,
     "start_time": "2022-11-09T11:47:13.078737",
     "status": "completed"
    },
    "tags": []
   },
   "outputs": [],
   "source": [
    "import pandas as pd\n",
    "import seaborn as sns\n",
    "import numpy as np\n",
    "import matplotlib.pyplot as plt\n",
    "\n",
    "from scipy import stats\n",
    "from scipy.stats import norm, skew\n",
    "\n",
    "from sklearn.preprocessing import RobustScaler, StandardScaler\n",
    "from sklearn.linear_model import LinearRegression, Ridge, Lasso, ElasticNet\n",
    "from sklearn.model_selection import train_test_split, GridSearchCV\n",
    "from sklearn.metrics import mean_squared_error\n",
    "from sklearn.base import BaseEstimator, TransformerMixin, RegressorMixin, clone\n",
    "\n",
    "import xgboost as xgb\n",
    "\n",
    "import warnings\n",
    "warnings.filterwarnings(\"ignore\")"
   ]
  },
  {
   "cell_type": "markdown",
   "id": "177ab1f2",
   "metadata": {
    "papermill": {
     "duration": 0.010634,
     "end_time": "2022-11-09T11:47:14.662464",
     "exception": false,
     "start_time": "2022-11-09T11:47:14.651830",
     "status": "completed"
    },
    "tags": []
   },
   "source": [
    "<a id = \"3\"></a>\n",
    "### Import Dataset"
   ]
  },
  {
   "cell_type": "markdown",
   "id": "987198f2",
   "metadata": {
    "papermill": {
     "duration": 0.010845,
     "end_time": "2022-11-09T11:47:14.684393",
     "exception": false,
     "start_time": "2022-11-09T11:47:14.673548",
     "status": "completed"
    },
    "tags": []
   },
   "source": [
    "**About data:**\n",
    "\n",
    "Number of Instances: 398\n",
    "Number of Attributes: 9 including the class attribute\n",
    "\n",
    "Attribute Information:\n",
    "\n",
    "* mpg: continuous\n",
    "* cylinders: multi-valued discrete\n",
    "* displacement: continuous\n",
    "* horsepower: continuous\n",
    "* weight: continuous\n",
    "* acceleration: continuous\n",
    "* model year: multi-valued discrete\n",
    "* origin: multi-valued discrete\n",
    "* car name: string (unique for each instance)"
   ]
  },
  {
   "cell_type": "code",
   "execution_count": 2,
   "id": "77eabdf3",
   "metadata": {
    "execution": {
     "iopub.execute_input": "2022-11-09T11:47:14.708861Z",
     "iopub.status.busy": "2022-11-09T11:47:14.708477Z",
     "iopub.status.idle": "2022-11-09T11:47:14.747814Z",
     "shell.execute_reply": "2022-11-09T11:47:14.746488Z"
    },
    "papermill": {
     "duration": 0.054497,
     "end_time": "2022-11-09T11:47:14.750159",
     "exception": false,
     "start_time": "2022-11-09T11:47:14.695662",
     "status": "completed"
    },
    "tags": []
   },
   "outputs": [
    {
     "data": {
      "text/html": [
       "<div>\n",
       "<style scoped>\n",
       "    .dataframe tbody tr th:only-of-type {\n",
       "        vertical-align: middle;\n",
       "    }\n",
       "\n",
       "    .dataframe tbody tr th {\n",
       "        vertical-align: top;\n",
       "    }\n",
       "\n",
       "    .dataframe thead th {\n",
       "        text-align: right;\n",
       "    }\n",
       "</style>\n",
       "<table border=\"1\" class=\"dataframe\">\n",
       "  <thead>\n",
       "    <tr style=\"text-align: right;\">\n",
       "      <th></th>\n",
       "      <th>mpg</th>\n",
       "      <th>cylinders</th>\n",
       "      <th>displacement</th>\n",
       "      <th>horsepower</th>\n",
       "      <th>weight</th>\n",
       "      <th>acceleration</th>\n",
       "      <th>model year</th>\n",
       "      <th>origin</th>\n",
       "      <th>car name</th>\n",
       "    </tr>\n",
       "  </thead>\n",
       "  <tbody>\n",
       "    <tr>\n",
       "      <th>0</th>\n",
       "      <td>18.0</td>\n",
       "      <td>8</td>\n",
       "      <td>307.0</td>\n",
       "      <td>130.0</td>\n",
       "      <td>3504</td>\n",
       "      <td>12.0</td>\n",
       "      <td>70</td>\n",
       "      <td>1</td>\n",
       "      <td>chevrolet chevelle malibu</td>\n",
       "    </tr>\n",
       "    <tr>\n",
       "      <th>1</th>\n",
       "      <td>15.0</td>\n",
       "      <td>8</td>\n",
       "      <td>350.0</td>\n",
       "      <td>165.0</td>\n",
       "      <td>3693</td>\n",
       "      <td>11.5</td>\n",
       "      <td>70</td>\n",
       "      <td>1</td>\n",
       "      <td>buick skylark 320</td>\n",
       "    </tr>\n",
       "    <tr>\n",
       "      <th>2</th>\n",
       "      <td>18.0</td>\n",
       "      <td>8</td>\n",
       "      <td>318.0</td>\n",
       "      <td>150.0</td>\n",
       "      <td>3436</td>\n",
       "      <td>11.0</td>\n",
       "      <td>70</td>\n",
       "      <td>1</td>\n",
       "      <td>plymouth satellite</td>\n",
       "    </tr>\n",
       "    <tr>\n",
       "      <th>3</th>\n",
       "      <td>16.0</td>\n",
       "      <td>8</td>\n",
       "      <td>304.0</td>\n",
       "      <td>150.0</td>\n",
       "      <td>3433</td>\n",
       "      <td>12.0</td>\n",
       "      <td>70</td>\n",
       "      <td>1</td>\n",
       "      <td>amc rebel sst</td>\n",
       "    </tr>\n",
       "    <tr>\n",
       "      <th>4</th>\n",
       "      <td>17.0</td>\n",
       "      <td>8</td>\n",
       "      <td>302.0</td>\n",
       "      <td>140.0</td>\n",
       "      <td>3449</td>\n",
       "      <td>10.5</td>\n",
       "      <td>70</td>\n",
       "      <td>1</td>\n",
       "      <td>ford torino</td>\n",
       "    </tr>\n",
       "  </tbody>\n",
       "</table>\n",
       "</div>"
      ],
      "text/plain": [
       "    mpg  cylinders  displacement  horsepower  weight  acceleration  \\\n",
       "0  18.0          8         307.0       130.0    3504          12.0   \n",
       "1  15.0          8         350.0       165.0    3693          11.5   \n",
       "2  18.0          8         318.0       150.0    3436          11.0   \n",
       "3  16.0          8         304.0       150.0    3433          12.0   \n",
       "4  17.0          8         302.0       140.0    3449          10.5   \n",
       "\n",
       "   model year  origin                   car name  \n",
       "0          70       1  chevrolet chevelle malibu  \n",
       "1          70       1          buick skylark 320  \n",
       "2          70       1         plymouth satellite  \n",
       "3          70       1              amc rebel sst  \n",
       "4          70       1                ford torino  "
      ]
     },
     "execution_count": 2,
     "metadata": {},
     "output_type": "execute_result"
    }
   ],
   "source": [
    "data = pd.read_csv(\"../input/autompg-dataset/auto-mpg.csv\", na_values = '?')\n",
    "data.head()"
   ]
  },
  {
   "cell_type": "code",
   "execution_count": 3,
   "id": "ccdd869f",
   "metadata": {
    "execution": {
     "iopub.execute_input": "2022-11-09T11:47:14.774427Z",
     "iopub.status.busy": "2022-11-09T11:47:14.773935Z",
     "iopub.status.idle": "2022-11-09T11:47:14.796579Z",
     "shell.execute_reply": "2022-11-09T11:47:14.795236Z"
    },
    "papermill": {
     "duration": 0.037482,
     "end_time": "2022-11-09T11:47:14.798936",
     "exception": false,
     "start_time": "2022-11-09T11:47:14.761454",
     "status": "completed"
    },
    "tags": []
   },
   "outputs": [
    {
     "data": {
      "text/html": [
       "<div>\n",
       "<style scoped>\n",
       "    .dataframe tbody tr th:only-of-type {\n",
       "        vertical-align: middle;\n",
       "    }\n",
       "\n",
       "    .dataframe tbody tr th {\n",
       "        vertical-align: top;\n",
       "    }\n",
       "\n",
       "    .dataframe thead th {\n",
       "        text-align: right;\n",
       "    }\n",
       "</style>\n",
       "<table border=\"1\" class=\"dataframe\">\n",
       "  <thead>\n",
       "    <tr style=\"text-align: right;\">\n",
       "      <th></th>\n",
       "      <th>mpg</th>\n",
       "      <th>cylinders</th>\n",
       "      <th>displacement</th>\n",
       "      <th>horsepower</th>\n",
       "      <th>weight</th>\n",
       "      <th>acceleration</th>\n",
       "      <th>model year</th>\n",
       "      <th>origin</th>\n",
       "    </tr>\n",
       "  </thead>\n",
       "  <tbody>\n",
       "    <tr>\n",
       "      <th>0</th>\n",
       "      <td>18.0</td>\n",
       "      <td>8</td>\n",
       "      <td>307.0</td>\n",
       "      <td>130.0</td>\n",
       "      <td>3504</td>\n",
       "      <td>12.0</td>\n",
       "      <td>70</td>\n",
       "      <td>1</td>\n",
       "    </tr>\n",
       "    <tr>\n",
       "      <th>1</th>\n",
       "      <td>15.0</td>\n",
       "      <td>8</td>\n",
       "      <td>350.0</td>\n",
       "      <td>165.0</td>\n",
       "      <td>3693</td>\n",
       "      <td>11.5</td>\n",
       "      <td>70</td>\n",
       "      <td>1</td>\n",
       "    </tr>\n",
       "    <tr>\n",
       "      <th>2</th>\n",
       "      <td>18.0</td>\n",
       "      <td>8</td>\n",
       "      <td>318.0</td>\n",
       "      <td>150.0</td>\n",
       "      <td>3436</td>\n",
       "      <td>11.0</td>\n",
       "      <td>70</td>\n",
       "      <td>1</td>\n",
       "    </tr>\n",
       "    <tr>\n",
       "      <th>3</th>\n",
       "      <td>16.0</td>\n",
       "      <td>8</td>\n",
       "      <td>304.0</td>\n",
       "      <td>150.0</td>\n",
       "      <td>3433</td>\n",
       "      <td>12.0</td>\n",
       "      <td>70</td>\n",
       "      <td>1</td>\n",
       "    </tr>\n",
       "    <tr>\n",
       "      <th>4</th>\n",
       "      <td>17.0</td>\n",
       "      <td>8</td>\n",
       "      <td>302.0</td>\n",
       "      <td>140.0</td>\n",
       "      <td>3449</td>\n",
       "      <td>10.5</td>\n",
       "      <td>70</td>\n",
       "      <td>1</td>\n",
       "    </tr>\n",
       "  </tbody>\n",
       "</table>\n",
       "</div>"
      ],
      "text/plain": [
       "    mpg  cylinders  displacement  horsepower  weight  acceleration  \\\n",
       "0  18.0          8         307.0       130.0    3504          12.0   \n",
       "1  15.0          8         350.0       165.0    3693          11.5   \n",
       "2  18.0          8         318.0       150.0    3436          11.0   \n",
       "3  16.0          8         304.0       150.0    3433          12.0   \n",
       "4  17.0          8         302.0       140.0    3449          10.5   \n",
       "\n",
       "   model year  origin  \n",
       "0          70       1  \n",
       "1          70       1  \n",
       "2          70       1  \n",
       "3          70       1  \n",
       "4          70       1  "
      ]
     },
     "execution_count": 3,
     "metadata": {},
     "output_type": "execute_result"
    }
   ],
   "source": [
    "data.drop([\"car name\"], axis = 1, inplace = True)\n",
    "data.head()"
   ]
  },
  {
   "cell_type": "markdown",
   "id": "0338a39a",
   "metadata": {
    "papermill": {
     "duration": 0.01096,
     "end_time": "2022-11-09T11:47:14.821340",
     "exception": false,
     "start_time": "2022-11-09T11:47:14.810380",
     "status": "completed"
    },
    "tags": []
   },
   "source": [
    "'mpg' is the target column"
   ]
  },
  {
   "cell_type": "code",
   "execution_count": 4,
   "id": "e8a65549",
   "metadata": {
    "execution": {
     "iopub.execute_input": "2022-11-09T11:47:14.845414Z",
     "iopub.status.busy": "2022-11-09T11:47:14.844994Z",
     "iopub.status.idle": "2022-11-09T11:47:14.860090Z",
     "shell.execute_reply": "2022-11-09T11:47:14.859091Z"
    },
    "papermill": {
     "duration": 0.030068,
     "end_time": "2022-11-09T11:47:14.862584",
     "exception": false,
     "start_time": "2022-11-09T11:47:14.832516",
     "status": "completed"
    },
    "tags": []
   },
   "outputs": [
    {
     "data": {
      "text/html": [
       "<div>\n",
       "<style scoped>\n",
       "    .dataframe tbody tr th:only-of-type {\n",
       "        vertical-align: middle;\n",
       "    }\n",
       "\n",
       "    .dataframe tbody tr th {\n",
       "        vertical-align: top;\n",
       "    }\n",
       "\n",
       "    .dataframe thead th {\n",
       "        text-align: right;\n",
       "    }\n",
       "</style>\n",
       "<table border=\"1\" class=\"dataframe\">\n",
       "  <thead>\n",
       "    <tr style=\"text-align: right;\">\n",
       "      <th></th>\n",
       "      <th>target</th>\n",
       "      <th>cylinders</th>\n",
       "      <th>displacement</th>\n",
       "      <th>horsepower</th>\n",
       "      <th>weight</th>\n",
       "      <th>acceleration</th>\n",
       "      <th>model year</th>\n",
       "      <th>origin</th>\n",
       "    </tr>\n",
       "  </thead>\n",
       "  <tbody>\n",
       "    <tr>\n",
       "      <th>0</th>\n",
       "      <td>18.0</td>\n",
       "      <td>8</td>\n",
       "      <td>307.0</td>\n",
       "      <td>130.0</td>\n",
       "      <td>3504</td>\n",
       "      <td>12.0</td>\n",
       "      <td>70</td>\n",
       "      <td>1</td>\n",
       "    </tr>\n",
       "    <tr>\n",
       "      <th>1</th>\n",
       "      <td>15.0</td>\n",
       "      <td>8</td>\n",
       "      <td>350.0</td>\n",
       "      <td>165.0</td>\n",
       "      <td>3693</td>\n",
       "      <td>11.5</td>\n",
       "      <td>70</td>\n",
       "      <td>1</td>\n",
       "    </tr>\n",
       "    <tr>\n",
       "      <th>2</th>\n",
       "      <td>18.0</td>\n",
       "      <td>8</td>\n",
       "      <td>318.0</td>\n",
       "      <td>150.0</td>\n",
       "      <td>3436</td>\n",
       "      <td>11.0</td>\n",
       "      <td>70</td>\n",
       "      <td>1</td>\n",
       "    </tr>\n",
       "  </tbody>\n",
       "</table>\n",
       "</div>"
      ],
      "text/plain": [
       "   target  cylinders  displacement  horsepower  weight  acceleration  \\\n",
       "0    18.0          8         307.0       130.0    3504          12.0   \n",
       "1    15.0          8         350.0       165.0    3693          11.5   \n",
       "2    18.0          8         318.0       150.0    3436          11.0   \n",
       "\n",
       "   model year  origin  \n",
       "0          70       1  \n",
       "1          70       1  \n",
       "2          70       1  "
      ]
     },
     "execution_count": 4,
     "metadata": {},
     "output_type": "execute_result"
    }
   ],
   "source": [
    "data = data.rename(columns = {'mpg' : 'target'})\n",
    "data.head(3)"
   ]
  },
  {
   "cell_type": "code",
   "execution_count": 5,
   "id": "f1cd019e",
   "metadata": {
    "execution": {
     "iopub.execute_input": "2022-11-09T11:47:14.887059Z",
     "iopub.status.busy": "2022-11-09T11:47:14.886623Z",
     "iopub.status.idle": "2022-11-09T11:47:14.893106Z",
     "shell.execute_reply": "2022-11-09T11:47:14.892301Z"
    },
    "papermill": {
     "duration": 0.021183,
     "end_time": "2022-11-09T11:47:14.895164",
     "exception": false,
     "start_time": "2022-11-09T11:47:14.873981",
     "status": "completed"
    },
    "tags": []
   },
   "outputs": [
    {
     "data": {
      "text/plain": [
       "(398, 8)"
      ]
     },
     "execution_count": 5,
     "metadata": {},
     "output_type": "execute_result"
    }
   ],
   "source": [
    "data.shape"
   ]
  },
  {
   "cell_type": "code",
   "execution_count": 6,
   "id": "af5a5354",
   "metadata": {
    "execution": {
     "iopub.execute_input": "2022-11-09T11:47:14.920047Z",
     "iopub.status.busy": "2022-11-09T11:47:14.919607Z",
     "iopub.status.idle": "2022-11-09T11:47:14.943293Z",
     "shell.execute_reply": "2022-11-09T11:47:14.941594Z"
    },
    "papermill": {
     "duration": 0.039825,
     "end_time": "2022-11-09T11:47:14.946591",
     "exception": false,
     "start_time": "2022-11-09T11:47:14.906766",
     "status": "completed"
    },
    "tags": []
   },
   "outputs": [
    {
     "name": "stdout",
     "output_type": "stream",
     "text": [
      "<class 'pandas.core.frame.DataFrame'>\n",
      "RangeIndex: 398 entries, 0 to 397\n",
      "Data columns (total 8 columns):\n",
      " #   Column        Non-Null Count  Dtype  \n",
      "---  ------        --------------  -----  \n",
      " 0   target        398 non-null    float64\n",
      " 1   cylinders     398 non-null    int64  \n",
      " 2   displacement  398 non-null    float64\n",
      " 3   horsepower    392 non-null    float64\n",
      " 4   weight        398 non-null    int64  \n",
      " 5   acceleration  398 non-null    float64\n",
      " 6   model year    398 non-null    int64  \n",
      " 7   origin        398 non-null    int64  \n",
      "dtypes: float64(4), int64(4)\n",
      "memory usage: 25.0 KB\n"
     ]
    }
   ],
   "source": [
    "data.info()"
   ]
  },
  {
   "cell_type": "code",
   "execution_count": 7,
   "id": "63e6d77c",
   "metadata": {
    "execution": {
     "iopub.execute_input": "2022-11-09T11:47:14.973922Z",
     "iopub.status.busy": "2022-11-09T11:47:14.973529Z",
     "iopub.status.idle": "2022-11-09T11:47:15.011547Z",
     "shell.execute_reply": "2022-11-09T11:47:15.010389Z"
    },
    "papermill": {
     "duration": 0.054238,
     "end_time": "2022-11-09T11:47:15.014034",
     "exception": false,
     "start_time": "2022-11-09T11:47:14.959796",
     "status": "completed"
    },
    "tags": []
   },
   "outputs": [
    {
     "data": {
      "text/html": [
       "<div>\n",
       "<style scoped>\n",
       "    .dataframe tbody tr th:only-of-type {\n",
       "        vertical-align: middle;\n",
       "    }\n",
       "\n",
       "    .dataframe tbody tr th {\n",
       "        vertical-align: top;\n",
       "    }\n",
       "\n",
       "    .dataframe thead th {\n",
       "        text-align: right;\n",
       "    }\n",
       "</style>\n",
       "<table border=\"1\" class=\"dataframe\">\n",
       "  <thead>\n",
       "    <tr style=\"text-align: right;\">\n",
       "      <th></th>\n",
       "      <th>target</th>\n",
       "      <th>cylinders</th>\n",
       "      <th>displacement</th>\n",
       "      <th>horsepower</th>\n",
       "      <th>weight</th>\n",
       "      <th>acceleration</th>\n",
       "      <th>model year</th>\n",
       "      <th>origin</th>\n",
       "    </tr>\n",
       "  </thead>\n",
       "  <tbody>\n",
       "    <tr>\n",
       "      <th>count</th>\n",
       "      <td>398.000000</td>\n",
       "      <td>398.000000</td>\n",
       "      <td>398.000000</td>\n",
       "      <td>392.000000</td>\n",
       "      <td>398.000000</td>\n",
       "      <td>398.000000</td>\n",
       "      <td>398.000000</td>\n",
       "      <td>398.000000</td>\n",
       "    </tr>\n",
       "    <tr>\n",
       "      <th>mean</th>\n",
       "      <td>23.514573</td>\n",
       "      <td>5.454774</td>\n",
       "      <td>193.425879</td>\n",
       "      <td>104.469388</td>\n",
       "      <td>2970.424623</td>\n",
       "      <td>15.568090</td>\n",
       "      <td>76.010050</td>\n",
       "      <td>1.572864</td>\n",
       "    </tr>\n",
       "    <tr>\n",
       "      <th>std</th>\n",
       "      <td>7.815984</td>\n",
       "      <td>1.701004</td>\n",
       "      <td>104.269838</td>\n",
       "      <td>38.491160</td>\n",
       "      <td>846.841774</td>\n",
       "      <td>2.757689</td>\n",
       "      <td>3.697627</td>\n",
       "      <td>0.802055</td>\n",
       "    </tr>\n",
       "    <tr>\n",
       "      <th>min</th>\n",
       "      <td>9.000000</td>\n",
       "      <td>3.000000</td>\n",
       "      <td>68.000000</td>\n",
       "      <td>46.000000</td>\n",
       "      <td>1613.000000</td>\n",
       "      <td>8.000000</td>\n",
       "      <td>70.000000</td>\n",
       "      <td>1.000000</td>\n",
       "    </tr>\n",
       "    <tr>\n",
       "      <th>25%</th>\n",
       "      <td>17.500000</td>\n",
       "      <td>4.000000</td>\n",
       "      <td>104.250000</td>\n",
       "      <td>75.000000</td>\n",
       "      <td>2223.750000</td>\n",
       "      <td>13.825000</td>\n",
       "      <td>73.000000</td>\n",
       "      <td>1.000000</td>\n",
       "    </tr>\n",
       "    <tr>\n",
       "      <th>50%</th>\n",
       "      <td>23.000000</td>\n",
       "      <td>4.000000</td>\n",
       "      <td>148.500000</td>\n",
       "      <td>93.500000</td>\n",
       "      <td>2803.500000</td>\n",
       "      <td>15.500000</td>\n",
       "      <td>76.000000</td>\n",
       "      <td>1.000000</td>\n",
       "    </tr>\n",
       "    <tr>\n",
       "      <th>75%</th>\n",
       "      <td>29.000000</td>\n",
       "      <td>8.000000</td>\n",
       "      <td>262.000000</td>\n",
       "      <td>126.000000</td>\n",
       "      <td>3608.000000</td>\n",
       "      <td>17.175000</td>\n",
       "      <td>79.000000</td>\n",
       "      <td>2.000000</td>\n",
       "    </tr>\n",
       "    <tr>\n",
       "      <th>max</th>\n",
       "      <td>46.600000</td>\n",
       "      <td>8.000000</td>\n",
       "      <td>455.000000</td>\n",
       "      <td>230.000000</td>\n",
       "      <td>5140.000000</td>\n",
       "      <td>24.800000</td>\n",
       "      <td>82.000000</td>\n",
       "      <td>3.000000</td>\n",
       "    </tr>\n",
       "  </tbody>\n",
       "</table>\n",
       "</div>"
      ],
      "text/plain": [
       "           target   cylinders  displacement  horsepower       weight  \\\n",
       "count  398.000000  398.000000    398.000000  392.000000   398.000000   \n",
       "mean    23.514573    5.454774    193.425879  104.469388  2970.424623   \n",
       "std      7.815984    1.701004    104.269838   38.491160   846.841774   \n",
       "min      9.000000    3.000000     68.000000   46.000000  1613.000000   \n",
       "25%     17.500000    4.000000    104.250000   75.000000  2223.750000   \n",
       "50%     23.000000    4.000000    148.500000   93.500000  2803.500000   \n",
       "75%     29.000000    8.000000    262.000000  126.000000  3608.000000   \n",
       "max     46.600000    8.000000    455.000000  230.000000  5140.000000   \n",
       "\n",
       "       acceleration  model year      origin  \n",
       "count    398.000000  398.000000  398.000000  \n",
       "mean      15.568090   76.010050    1.572864  \n",
       "std        2.757689    3.697627    0.802055  \n",
       "min        8.000000   70.000000    1.000000  \n",
       "25%       13.825000   73.000000    1.000000  \n",
       "50%       15.500000   76.000000    1.000000  \n",
       "75%       17.175000   79.000000    2.000000  \n",
       "max       24.800000   82.000000    3.000000  "
      ]
     },
     "execution_count": 7,
     "metadata": {},
     "output_type": "execute_result"
    }
   ],
   "source": [
    "describe = data.describe()\n",
    "describe"
   ]
  },
  {
   "cell_type": "markdown",
   "id": "6c951388",
   "metadata": {
    "papermill": {
     "duration": 0.013927,
     "end_time": "2022-11-09T11:47:15.040660",
     "exception": false,
     "start_time": "2022-11-09T11:47:15.026733",
     "status": "completed"
    },
    "tags": []
   },
   "source": [
    "<a id = \"4\"></a>\n",
    "### Missing Values"
   ]
  },
  {
   "cell_type": "code",
   "execution_count": 8,
   "id": "0e7b34e5",
   "metadata": {
    "execution": {
     "iopub.execute_input": "2022-11-09T11:47:15.071189Z",
     "iopub.status.busy": "2022-11-09T11:47:15.070745Z",
     "iopub.status.idle": "2022-11-09T11:47:15.081972Z",
     "shell.execute_reply": "2022-11-09T11:47:15.080719Z"
    },
    "papermill": {
     "duration": 0.030478,
     "end_time": "2022-11-09T11:47:15.085597",
     "exception": false,
     "start_time": "2022-11-09T11:47:15.055119",
     "status": "completed"
    },
    "tags": []
   },
   "outputs": [
    {
     "data": {
      "text/plain": [
       "target          0\n",
       "cylinders       0\n",
       "displacement    0\n",
       "horsepower      6\n",
       "weight          0\n",
       "acceleration    0\n",
       "model year      0\n",
       "origin          0\n",
       "dtype: int64"
      ]
     },
     "execution_count": 8,
     "metadata": {},
     "output_type": "execute_result"
    }
   ],
   "source": [
    "data.isna().sum()"
   ]
  },
  {
   "cell_type": "code",
   "execution_count": 9,
   "id": "be069961",
   "metadata": {
    "execution": {
     "iopub.execute_input": "2022-11-09T11:47:15.116592Z",
     "iopub.status.busy": "2022-11-09T11:47:15.116224Z",
     "iopub.status.idle": "2022-11-09T11:47:15.539726Z",
     "shell.execute_reply": "2022-11-09T11:47:15.538528Z"
    },
    "papermill": {
     "duration": 0.440506,
     "end_time": "2022-11-09T11:47:15.542288",
     "exception": false,
     "start_time": "2022-11-09T11:47:15.101782",
     "status": "completed"
    },
    "tags": []
   },
   "outputs": [
    {
     "data": {
      "text/plain": [
       "<seaborn.axisgrid.FacetGrid at 0x7f04d96ff350>"
      ]
     },
     "execution_count": 9,
     "metadata": {},
     "output_type": "execute_result"
    },
    {
     "data": {
      "image/png": "[encoded data removed]",
      "text/plain": [
       "<Figure size 360x360 with 1 Axes>"
      ]
     },
     "metadata": {
      "needs_background": "light"
     },
     "output_type": "display_data"
    }
   ],
   "source": [
    "# plot before filling missing values\n",
    "sns.displot(data[\"horsepower\"], kde = True)"
   ]
  },
  {
   "cell_type": "code",
   "execution_count": 10,
   "id": "d66d881c",
   "metadata": {
    "execution": {
     "iopub.execute_input": "2022-11-09T11:47:15.568772Z",
     "iopub.status.busy": "2022-11-09T11:47:15.568359Z",
     "iopub.status.idle": "2022-11-09T11:47:15.578917Z",
     "shell.execute_reply": "2022-11-09T11:47:15.577823Z"
    },
    "papermill": {
     "duration": 0.026512,
     "end_time": "2022-11-09T11:47:15.581235",
     "exception": false,
     "start_time": "2022-11-09T11:47:15.554723",
     "status": "completed"
    },
    "tags": []
   },
   "outputs": [
    {
     "data": {
      "text/plain": [
       "target          0\n",
       "cylinders       0\n",
       "displacement    0\n",
       "horsepower      0\n",
       "weight          0\n",
       "acceleration    0\n",
       "model year      0\n",
       "origin          0\n",
       "dtype: int64"
      ]
     },
     "execution_count": 10,
     "metadata": {},
     "output_type": "execute_result"
    }
   ],
   "source": [
    "data[\"horsepower\"] = data[\"horsepower\"].fillna(data['horsepower'].mean())\n",
    "data.isna().sum()"
   ]
  },
  {
   "cell_type": "code",
   "execution_count": 11,
   "id": "bc7de3ac",
   "metadata": {
    "execution": {
     "iopub.execute_input": "2022-11-09T11:47:15.607682Z",
     "iopub.status.busy": "2022-11-09T11:47:15.607303Z",
     "iopub.status.idle": "2022-11-09T11:47:15.980867Z",
     "shell.execute_reply": "2022-11-09T11:47:15.979702Z"
    },
    "papermill": {
     "duration": 0.389554,
     "end_time": "2022-11-09T11:47:15.983276",
     "exception": false,
     "start_time": "2022-11-09T11:47:15.593722",
     "status": "completed"
    },
    "tags": []
   },
   "outputs": [
    {
     "data": {
      "text/plain": [
       "<seaborn.axisgrid.FacetGrid at 0x7f04c4139c50>"
      ]
     },
     "execution_count": 11,
     "metadata": {},
     "output_type": "execute_result"
    },
    {
     "data": {
      "image/png": "[encoded data removed]",
      "text/plain": [
       "<Figure size 360x360 with 1 Axes>"
      ]
     },
     "metadata": {
      "needs_background": "light"
     },
     "output_type": "display_data"
    }
   ],
   "source": [
    "# plot after missing value imputation with horsepower mean\n",
    "sns.displot(data = data[\"horsepower\"], kde = True)"
   ]
  },
  {
   "cell_type": "markdown",
   "id": "2d6ce9bd",
   "metadata": {
    "papermill": {
     "duration": 0.013238,
     "end_time": "2022-11-09T11:47:16.010352",
     "exception": false,
     "start_time": "2022-11-09T11:47:15.997114",
     "status": "completed"
    },
    "tags": []
   },
   "source": [
    "<a id = \"5\"></a>\n",
    "### Exploratory Data Analysis"
   ]
  },
  {
   "cell_type": "code",
   "execution_count": 12,
   "id": "5bb3668a",
   "metadata": {
    "execution": {
     "iopub.execute_input": "2022-11-09T11:47:16.039991Z",
     "iopub.status.busy": "2022-11-09T11:47:16.038682Z",
     "iopub.status.idle": "2022-11-09T11:47:16.451229Z",
     "shell.execute_reply": "2022-11-09T11:47:16.450098Z"
    },
    "papermill": {
     "duration": 0.430164,
     "end_time": "2022-11-09T11:47:16.454051",
     "exception": false,
     "start_time": "2022-11-09T11:47:16.023887",
     "status": "completed"
    },
    "tags": []
   },
   "outputs": [
    {
     "data": {
      "text/plain": [
       "Text(0.5, 1.0, 'Correlation Between Features (Threshold: 0.75)')"
      ]
     },
     "execution_count": 12,
     "metadata": {},
     "output_type": "execute_result"
    },
    {
     "data": {
      "image/png": "[encoded data removed]",
      "text/plain": [
       "<Figure size 864x576 with 2 Axes>"
      ]
     },
     "metadata": {
      "needs_background": "light"
     },
     "output_type": "display_data"
    }
   ],
   "source": [
    "corr_matrix = data.corr()\n",
    "\n",
    "threshold = 0.75\n",
    "filter_ = np.abs(corr_matrix[\"target\"]) > threshold\n",
    "corr_features = corr_matrix.columns[filter_].tolist()\n",
    "\n",
    "plt.figure(figsize = (12, 8))\n",
    "sns.heatmap(data[corr_features].corr(), annot = True, cmap = sns.cubehelix_palette(as_cmap=True), fmt = \".2f\")\n",
    "plt.title(\"Correlation Between Features (Threshold: {})\".format(threshold))"
   ]
  },
  {
   "cell_type": "markdown",
   "id": "837daa68",
   "metadata": {
    "papermill": {
     "duration": 0.013417,
     "end_time": "2022-11-09T11:47:16.482374",
     "exception": false,
     "start_time": "2022-11-09T11:47:16.468957",
     "status": "completed"
    },
    "tags": []
   },
   "source": [
    "**Multicollinearity:**\n",
    "* Multicollinearity is a statistical concept where several independent variables in a model are correlated.\n",
    "* Two variables are considered to be perfectly collinear if their correlation coefficient is +/- 1.0.\n",
    "* Multicollinearity among independent variables will result in less reliable statistical inferences.\n",
    "* It is better to use independent variables that are not correlated or repetitive when building multiple regression models that use two or more variables.\n",
    "* The existence of multicollinearity in a data set can lead to less reliable results due to larger standard errors.\n",
    "\n",
    "Source: [https://www.investopedia.com/terms/m/multicollinearity.asp#:~:text=Multicollinearity%20is%20a%20statistical%20concept,in%20less%20reliable%20statistical%20inferences.]"
   ]
  },
  {
   "cell_type": "code",
   "execution_count": 13,
   "id": "e2919556",
   "metadata": {
    "execution": {
     "iopub.execute_input": "2022-11-09T11:47:16.511494Z",
     "iopub.status.busy": "2022-11-09T11:47:16.511109Z",
     "iopub.status.idle": "2022-11-09T11:47:21.254300Z",
     "shell.execute_reply": "2022-11-09T11:47:21.253096Z"
    },
    "papermill": {
     "duration": 4.763119,
     "end_time": "2022-11-09T11:47:21.259234",
     "exception": false,
     "start_time": "2022-11-09T11:47:16.496115",
     "status": "completed"
    },
    "tags": []
   },
   "outputs": [
    {
     "data": {
      "text/plain": [
       "<seaborn.axisgrid.PairGrid at 0x7f04b9e77a10>"
      ]
     },
     "execution_count": 13,
     "metadata": {},
     "output_type": "execute_result"
    },
    {
     "data": {
      "image/png": "[encoded data removed]",
      "text/plain": [
       "<Figure size 900x900 with 30 Axes>"
      ]
     },
     "metadata": {
      "needs_background": "light"
     },
     "output_type": "display_data"
    }
   ],
   "source": [
    "# Pairwise Relationship of Highly Correlated Features with Target in the Dataset\n",
    "sns.pairplot(data[corr_features], diag_kind=\"kde\")"
   ]
  },
  {
   "cell_type": "markdown",
   "id": "f30a8a69",
   "metadata": {
    "papermill": {
     "duration": 0.017416,
     "end_time": "2022-11-09T11:47:21.294666",
     "exception": false,
     "start_time": "2022-11-09T11:47:21.277250",
     "status": "completed"
    },
    "tags": []
   },
   "source": [
    "Cylinders and origin can be categorical"
   ]
  },
  {
   "cell_type": "code",
   "execution_count": 14,
   "id": "f3f1c73b",
   "metadata": {
    "execution": {
     "iopub.execute_input": "2022-11-09T11:47:21.331113Z",
     "iopub.status.busy": "2022-11-09T11:47:21.330471Z",
     "iopub.status.idle": "2022-11-09T11:47:21.557268Z",
     "shell.execute_reply": "2022-11-09T11:47:21.556357Z"
    },
    "papermill": {
     "duration": 0.247745,
     "end_time": "2022-11-09T11:47:21.559583",
     "exception": false,
     "start_time": "2022-11-09T11:47:21.311838",
     "status": "completed"
    },
    "tags": []
   },
   "outputs": [
    {
     "data": {
      "text/plain": [
       "Text(0.5, 1.0, 'Number of Vehicle By Cylinders')"
      ]
     },
     "execution_count": 14,
     "metadata": {},
     "output_type": "execute_result"
    },
    {
     "data": {
      "image/png": "[encoded data removed]",
      "text/plain": [
       "<Figure size 432x288 with 1 Axes>"
      ]
     },
     "metadata": {
      "needs_background": "light"
     },
     "output_type": "display_data"
    }
   ],
   "source": [
    "plt.figure()\n",
    "sns.countplot(data[\"cylinders\"])\n",
    "plt.title(\"Number of Vehicle By Cylinders\")"
   ]
  },
  {
   "cell_type": "code",
   "execution_count": 15,
   "id": "aa671f7f",
   "metadata": {
    "execution": {
     "iopub.execute_input": "2022-11-09T11:47:21.598247Z",
     "iopub.status.busy": "2022-11-09T11:47:21.597590Z",
     "iopub.status.idle": "2022-11-09T11:47:21.792874Z",
     "shell.execute_reply": "2022-11-09T11:47:21.791973Z"
    },
    "papermill": {
     "duration": 0.217085,
     "end_time": "2022-11-09T11:47:21.795349",
     "exception": false,
     "start_time": "2022-11-09T11:47:21.578264",
     "status": "completed"
    },
    "tags": []
   },
   "outputs": [
    {
     "data": {
      "text/plain": [
       "Text(0.5, 1.0, 'Number of Vehicle By Origin')"
      ]
     },
     "execution_count": 15,
     "metadata": {},
     "output_type": "execute_result"
    },
    {
     "data": {
      "image/png": "[encoded data removed]",
      "text/plain": [
       "<Figure size 432x288 with 1 Axes>"
      ]
     },
     "metadata": {
      "needs_background": "light"
     },
     "output_type": "display_data"
    }
   ],
   "source": [
    "plt.figure()\n",
    "sns.countplot(data[\"origin\"])\n",
    "plt.title(\"Number of Vehicle By Origin\")"
   ]
  },
  {
   "cell_type": "code",
   "execution_count": 16,
   "id": "5a25e2d9",
   "metadata": {
    "execution": {
     "iopub.execute_input": "2022-11-09T11:47:21.832506Z",
     "iopub.status.busy": "2022-11-09T11:47:21.832130Z",
     "iopub.status.idle": "2022-11-09T11:47:23.101258Z",
     "shell.execute_reply": "2022-11-09T11:47:23.100152Z"
    },
    "papermill": {
     "duration": 1.290996,
     "end_time": "2022-11-09T11:47:23.104077",
     "exception": false,
     "start_time": "2022-11-09T11:47:21.813081",
     "status": "completed"
    },
    "tags": []
   },
   "outputs": [
    {
     "data": {
      "image/png": "[encoded data removed]",
      "text/plain": [
       "<Figure size 432x288 with 1 Axes>"
      ]
     },
     "metadata": {
      "needs_background": "light"
     },
     "output_type": "display_data"
    },
    {
     "data": {
      "image/png": "[encoded data removed]",
      "text/plain": [
       "<Figure size 432x288 with 1 Axes>"
      ]
     },
     "metadata": {
      "needs_background": "light"
     },
     "output_type": "display_data"
    },
    {
     "data": {
      "image/png": "[encoded data removed]",
      "text/plain": [
       "<Figure size 432x288 with 1 Axes>"
      ]
     },
     "metadata": {
      "needs_background": "light"
     },
     "output_type": "display_data"
    },
    {
     "data": {
      "image/png": "[encoded data removed]",
      "text/plain": [
       "<Figure size 432x288 with 1 Axes>"
      ]
     },
     "metadata": {
      "needs_background": "light"
     },
     "output_type": "display_data"
    },
    {
     "data": {
      "image/png": "[encoded data removed]",
      "text/plain": [
       "<Figure size 432x288 with 1 Axes>"
      ]
     },
     "metadata": {
      "needs_background": "light"
     },
     "output_type": "display_data"
    },
    {
     "data": {
      "image/png": "[encoded data removed]",
      "text/plain": [
       "<Figure size 432x288 with 1 Axes>"
      ]
     },
     "metadata": {
      "needs_background": "light"
     },
     "output_type": "display_data"
    },
    {
     "data": {
      "image/png": "[encoded data removed]",
      "text/plain": [
       "<Figure size 432x288 with 1 Axes>"
      ]
     },
     "metadata": {
      "needs_background": "light"
     },
     "output_type": "display_data"
    },
    {
     "data": {
      "image/png": "[encoded data removed]",
      "text/plain": [
       "<Figure size 432x288 with 1 Axes>"
      ]
     },
     "metadata": {
      "needs_background": "light"
     },
     "output_type": "display_data"
    }
   ],
   "source": [
    "# box plots for each columns\n",
    "for c in data.columns:\n",
    "    plt.figure()\n",
    "    sns.boxplot(x = c, data = data, orient = \"h\")\n",
    "    plt.title(c)"
   ]
  },
  {
   "cell_type": "markdown",
   "id": "ee30ba5f",
   "metadata": {
    "papermill": {
     "duration": 0.01896,
     "end_time": "2022-11-09T11:47:23.142435",
     "exception": false,
     "start_time": "2022-11-09T11:47:23.123475",
     "status": "completed"
    },
    "tags": []
   },
   "source": [
    "outliers: horsepower and acceleration"
   ]
  },
  {
   "cell_type": "markdown",
   "id": "e66bbbea",
   "metadata": {
    "papermill": {
     "duration": 0.019366,
     "end_time": "2022-11-09T11:47:23.181153",
     "exception": false,
     "start_time": "2022-11-09T11:47:23.161787",
     "status": "completed"
    },
    "tags": []
   },
   "source": [
    "<a id = \"6\"></a>\n",
    "### Outlier Analysis\n",
    "<img src=\"https://upload.wikimedia.org/wikipedia/commons/thumb/1/1a/Boxplot_vs_PDF.svg/375px-Boxplot_vs_PDF.svg.png\">"
   ]
  },
  {
   "cell_type": "markdown",
   "id": "07f2aacb",
   "metadata": {
    "papermill": {
     "duration": 0.019471,
     "end_time": "2022-11-09T11:47:23.220192",
     "exception": false,
     "start_time": "2022-11-09T11:47:23.200721",
     "status": "completed"
    },
    "tags": []
   },
   "source": [
    "The interquartile range is a measure of where the “middle fifty” is in a data set. Where a range is a measure of where the beginning and end are in a set, an interquartile range is a measure of where the bulk of the values lie. That’s why it’s preferred over many other measures of spread when reporting things like school performance or SAT scores.\n",
    "\n",
    "The interquartile range formula is the first quartile subtracted from the third quartile:\n",
    "\n",
    "**IQR = Q3 – Q1**\n",
    "\n",
    "I use the threshold 2 instead of 1.5 because of avoiding too much data lose."
   ]
  },
  {
   "cell_type": "code",
   "execution_count": 17,
   "id": "d119f63c",
   "metadata": {
    "execution": {
     "iopub.execute_input": "2022-11-09T11:47:23.261901Z",
     "iopub.status.busy": "2022-11-09T11:47:23.261505Z",
     "iopub.status.idle": "2022-11-09T11:47:23.270028Z",
     "shell.execute_reply": "2022-11-09T11:47:23.268933Z"
    },
    "papermill": {
     "duration": 0.032255,
     "end_time": "2022-11-09T11:47:23.272302",
     "exception": false,
     "start_time": "2022-11-09T11:47:23.240047",
     "status": "completed"
    },
    "tags": []
   },
   "outputs": [
    {
     "data": {
      "text/plain": [
       "count    392.000000\n",
       "mean     104.469388\n",
       "std       38.491160\n",
       "min       46.000000\n",
       "25%       75.000000\n",
       "50%       93.500000\n",
       "75%      126.000000\n",
       "max      230.000000\n",
       "Name: horsepower, dtype: float64"
      ]
     },
     "execution_count": 17,
     "metadata": {},
     "output_type": "execute_result"
    }
   ],
   "source": [
    "horsepower_desc = describe[\"horsepower\"]\n",
    "horsepower_desc"
   ]
  },
  {
   "cell_type": "code",
   "execution_count": 18,
   "id": "a226545a",
   "metadata": {
    "execution": {
     "iopub.execute_input": "2022-11-09T11:47:23.313645Z",
     "iopub.status.busy": "2022-11-09T11:47:23.313247Z",
     "iopub.status.idle": "2022-11-09T11:47:23.332212Z",
     "shell.execute_reply": "2022-11-09T11:47:23.331095Z"
    },
    "papermill": {
     "duration": 0.042967,
     "end_time": "2022-11-09T11:47:23.334814",
     "exception": false,
     "start_time": "2022-11-09T11:47:23.291847",
     "status": "completed"
    },
    "tags": []
   },
   "outputs": [
    {
     "data": {
      "text/html": [
       "<div>\n",
       "<style scoped>\n",
       "    .dataframe tbody tr th:only-of-type {\n",
       "        vertical-align: middle;\n",
       "    }\n",
       "\n",
       "    .dataframe tbody tr th {\n",
       "        vertical-align: top;\n",
       "    }\n",
       "\n",
       "    .dataframe thead th {\n",
       "        text-align: right;\n",
       "    }\n",
       "</style>\n",
       "<table border=\"1\" class=\"dataframe\">\n",
       "  <thead>\n",
       "    <tr style=\"text-align: right;\">\n",
       "      <th></th>\n",
       "      <th>target</th>\n",
       "      <th>cylinders</th>\n",
       "      <th>displacement</th>\n",
       "      <th>horsepower</th>\n",
       "      <th>weight</th>\n",
       "      <th>acceleration</th>\n",
       "      <th>model year</th>\n",
       "      <th>origin</th>\n",
       "    </tr>\n",
       "  </thead>\n",
       "  <tbody>\n",
       "    <tr>\n",
       "      <th>0</th>\n",
       "      <td>18.0</td>\n",
       "      <td>8</td>\n",
       "      <td>307.0</td>\n",
       "      <td>130.0</td>\n",
       "      <td>3504</td>\n",
       "      <td>12.0</td>\n",
       "      <td>70</td>\n",
       "      <td>1</td>\n",
       "    </tr>\n",
       "    <tr>\n",
       "      <th>1</th>\n",
       "      <td>15.0</td>\n",
       "      <td>8</td>\n",
       "      <td>350.0</td>\n",
       "      <td>165.0</td>\n",
       "      <td>3693</td>\n",
       "      <td>11.5</td>\n",
       "      <td>70</td>\n",
       "      <td>1</td>\n",
       "    </tr>\n",
       "    <tr>\n",
       "      <th>2</th>\n",
       "      <td>18.0</td>\n",
       "      <td>8</td>\n",
       "      <td>318.0</td>\n",
       "      <td>150.0</td>\n",
       "      <td>3436</td>\n",
       "      <td>11.0</td>\n",
       "      <td>70</td>\n",
       "      <td>1</td>\n",
       "    </tr>\n",
       "    <tr>\n",
       "      <th>3</th>\n",
       "      <td>16.0</td>\n",
       "      <td>8</td>\n",
       "      <td>304.0</td>\n",
       "      <td>150.0</td>\n",
       "      <td>3433</td>\n",
       "      <td>12.0</td>\n",
       "      <td>70</td>\n",
       "      <td>1</td>\n",
       "    </tr>\n",
       "    <tr>\n",
       "      <th>4</th>\n",
       "      <td>17.0</td>\n",
       "      <td>8</td>\n",
       "      <td>302.0</td>\n",
       "      <td>140.0</td>\n",
       "      <td>3449</td>\n",
       "      <td>10.5</td>\n",
       "      <td>70</td>\n",
       "      <td>1</td>\n",
       "    </tr>\n",
       "  </tbody>\n",
       "</table>\n",
       "</div>"
      ],
      "text/plain": [
       "   target  cylinders  displacement  horsepower  weight  acceleration  \\\n",
       "0    18.0          8         307.0       130.0    3504          12.0   \n",
       "1    15.0          8         350.0       165.0    3693          11.5   \n",
       "2    18.0          8         318.0       150.0    3436          11.0   \n",
       "3    16.0          8         304.0       150.0    3433          12.0   \n",
       "4    17.0          8         302.0       140.0    3449          10.5   \n",
       "\n",
       "   model year  origin  \n",
       "0          70       1  \n",
       "1          70       1  \n",
       "2          70       1  \n",
       "3          70       1  \n",
       "4          70       1  "
      ]
     },
     "execution_count": 18,
     "metadata": {},
     "output_type": "execute_result"
    }
   ],
   "source": [
    "# horsepower iqr filtering\n",
    "\n",
    "thr = 2\n",
    "\n",
    "q3_hp = horsepower_desc[6]\n",
    "q1_hp = horsepower_desc[4]\n",
    "IQR_hp = q3_hp - q1_hp\n",
    "top_limit_hp = q3_hp + thr*IQR_hp\n",
    "bottom_limit_hp = q1_hp - thr*IQR_hp\n",
    "filter_hp_bottom = bottom_limit_hp < data[\"horsepower\"]\n",
    "filter_hp_top = data[\"horsepower\"] < top_limit_hp\n",
    "filter_hp = filter_hp_bottom & filter_hp_top\n",
    "\n",
    "data = data[filter_hp]\n",
    "data.head()"
   ]
  },
  {
   "cell_type": "code",
   "execution_count": 19,
   "id": "b322b3d0",
   "metadata": {
    "execution": {
     "iopub.execute_input": "2022-11-09T11:47:23.377940Z",
     "iopub.status.busy": "2022-11-09T11:47:23.377517Z",
     "iopub.status.idle": "2022-11-09T11:47:23.396990Z",
     "shell.execute_reply": "2022-11-09T11:47:23.395844Z"
    },
    "papermill": {
     "duration": 0.044518,
     "end_time": "2022-11-09T11:47:23.399615",
     "exception": false,
     "start_time": "2022-11-09T11:47:23.355097",
     "status": "completed"
    },
    "tags": []
   },
   "outputs": [
    {
     "data": {
      "text/html": [
       "<div>\n",
       "<style scoped>\n",
       "    .dataframe tbody tr th:only-of-type {\n",
       "        vertical-align: middle;\n",
       "    }\n",
       "\n",
       "    .dataframe tbody tr th {\n",
       "        vertical-align: top;\n",
       "    }\n",
       "\n",
       "    .dataframe thead th {\n",
       "        text-align: right;\n",
       "    }\n",
       "</style>\n",
       "<table border=\"1\" class=\"dataframe\">\n",
       "  <thead>\n",
       "    <tr style=\"text-align: right;\">\n",
       "      <th></th>\n",
       "      <th>target</th>\n",
       "      <th>cylinders</th>\n",
       "      <th>displacement</th>\n",
       "      <th>horsepower</th>\n",
       "      <th>weight</th>\n",
       "      <th>acceleration</th>\n",
       "      <th>model year</th>\n",
       "      <th>origin</th>\n",
       "    </tr>\n",
       "  </thead>\n",
       "  <tbody>\n",
       "    <tr>\n",
       "      <th>0</th>\n",
       "      <td>18.0</td>\n",
       "      <td>8</td>\n",
       "      <td>307.0</td>\n",
       "      <td>130.0</td>\n",
       "      <td>3504</td>\n",
       "      <td>12.0</td>\n",
       "      <td>70</td>\n",
       "      <td>1</td>\n",
       "    </tr>\n",
       "    <tr>\n",
       "      <th>1</th>\n",
       "      <td>15.0</td>\n",
       "      <td>8</td>\n",
       "      <td>350.0</td>\n",
       "      <td>165.0</td>\n",
       "      <td>3693</td>\n",
       "      <td>11.5</td>\n",
       "      <td>70</td>\n",
       "      <td>1</td>\n",
       "    </tr>\n",
       "    <tr>\n",
       "      <th>2</th>\n",
       "      <td>18.0</td>\n",
       "      <td>8</td>\n",
       "      <td>318.0</td>\n",
       "      <td>150.0</td>\n",
       "      <td>3436</td>\n",
       "      <td>11.0</td>\n",
       "      <td>70</td>\n",
       "      <td>1</td>\n",
       "    </tr>\n",
       "    <tr>\n",
       "      <th>3</th>\n",
       "      <td>16.0</td>\n",
       "      <td>8</td>\n",
       "      <td>304.0</td>\n",
       "      <td>150.0</td>\n",
       "      <td>3433</td>\n",
       "      <td>12.0</td>\n",
       "      <td>70</td>\n",
       "      <td>1</td>\n",
       "    </tr>\n",
       "    <tr>\n",
       "      <th>4</th>\n",
       "      <td>17.0</td>\n",
       "      <td>8</td>\n",
       "      <td>302.0</td>\n",
       "      <td>140.0</td>\n",
       "      <td>3449</td>\n",
       "      <td>10.5</td>\n",
       "      <td>70</td>\n",
       "      <td>1</td>\n",
       "    </tr>\n",
       "  </tbody>\n",
       "</table>\n",
       "</div>"
      ],
      "text/plain": [
       "   target  cylinders  displacement  horsepower  weight  acceleration  \\\n",
       "0    18.0          8         307.0       130.0    3504          12.0   \n",
       "1    15.0          8         350.0       165.0    3693          11.5   \n",
       "2    18.0          8         318.0       150.0    3436          11.0   \n",
       "3    16.0          8         304.0       150.0    3433          12.0   \n",
       "4    17.0          8         302.0       140.0    3449          10.5   \n",
       "\n",
       "   model year  origin  \n",
       "0          70       1  \n",
       "1          70       1  \n",
       "2          70       1  \n",
       "3          70       1  \n",
       "4          70       1  "
      ]
     },
     "execution_count": 19,
     "metadata": {},
     "output_type": "execute_result"
    }
   ],
   "source": [
    "# acceleration iqr filtering\n",
    "acceleration_desc = describe[\"acceleration\"]\n",
    "\n",
    "\n",
    "thr = 2\n",
    "\n",
    "q3_acc = acceleration_desc[6]\n",
    "q1_acc = acceleration_desc[4]\n",
    "IQR_acc = q3_acc - q1_acc\n",
    "top_limit_acc = q3_acc + thr*IQR_acc\n",
    "bottom_limit_acc = q1_acc - thr*IQR_acc\n",
    "filter_acc_bottom = bottom_limit_acc < data[\"acceleration\"]\n",
    "filter_acc_top = data[\"acceleration\"] < top_limit_acc\n",
    "filter_acc = filter_acc_bottom & filter_acc_top\n",
    "\n",
    "data = data[filter_acc]\n",
    "data.head()"
   ]
  },
  {
   "cell_type": "code",
   "execution_count": 20,
   "id": "e5f361aa",
   "metadata": {
    "execution": {
     "iopub.execute_input": "2022-11-09T11:47:23.441966Z",
     "iopub.status.busy": "2022-11-09T11:47:23.441583Z",
     "iopub.status.idle": "2022-11-09T11:47:23.448338Z",
     "shell.execute_reply": "2022-11-09T11:47:23.447288Z"
    },
    "papermill": {
     "duration": 0.030706,
     "end_time": "2022-11-09T11:47:23.450769",
     "exception": false,
     "start_time": "2022-11-09T11:47:23.420063",
     "status": "completed"
    },
    "tags": []
   },
   "outputs": [
    {
     "data": {
      "text/plain": [
       "(395, 8)"
      ]
     },
     "execution_count": 20,
     "metadata": {},
     "output_type": "execute_result"
    }
   ],
   "source": [
    "data.shape"
   ]
  },
  {
   "cell_type": "markdown",
   "id": "8a88d4c5",
   "metadata": {
    "papermill": {
     "duration": 0.02091,
     "end_time": "2022-11-09T11:47:23.491661",
     "exception": false,
     "start_time": "2022-11-09T11:47:23.470751",
     "status": "completed"
    },
    "tags": []
   },
   "source": [
    "Three of outlier is cleaned from data"
   ]
  },
  {
   "cell_type": "markdown",
   "id": "a80b9c9b",
   "metadata": {
    "papermill": {
     "duration": 0.019579,
     "end_time": "2022-11-09T11:47:23.531191",
     "exception": false,
     "start_time": "2022-11-09T11:47:23.511612",
     "status": "completed"
    },
    "tags": []
   },
   "source": [
    "<a id = \"7\"></a>\n",
    "### Feature Engineering\n",
    "<a id = \"8\"></a>\n",
    "#### Skewness Check\n",
    "\n",
    "<img src=\"https://www.biologyforlife.com/uploads/2/2/3/9/22392738/c101b0da6ea1a0dab31f80d9963b0368_orig.png\" height = 200 width = 700>"
   ]
  },
  {
   "cell_type": "markdown",
   "id": "8acab010",
   "metadata": {
    "papermill": {
     "duration": 0.019604,
     "end_time": "2022-11-09T11:47:23.570769",
     "exception": false,
     "start_time": "2022-11-09T11:47:23.551165",
     "status": "completed"
    },
    "tags": []
   },
   "source": [
    "Is data normally distributed or not?\n",
    "\n",
    "Skewness is a measurement of the distortion of symmetrical distribution or asymmetry in a data set. Skewness is demonstrated on a bell curve when data points are not distributed symmetrically to the left and right sides of the median on a bell curve.\n",
    "\n",
    "* A skewness value of 0 in the output denotes a symmetrical distribution of values in row 1.\n",
    "* A negative skewness value in the output indicates an asymmetry in the distribution corresponding to row 2 and the tail is larger towards the left hand side of the distribution.\n",
    "* A positive skewness value in the output indicates an asymmetry in the distribution corresponding to row 3 and the tail is larger towards the right hand side of the distribution."
   ]
  },
  {
   "cell_type": "code",
   "execution_count": 21,
   "id": "58ef33d6",
   "metadata": {
    "execution": {
     "iopub.execute_input": "2022-11-09T11:47:23.612613Z",
     "iopub.status.busy": "2022-11-09T11:47:23.612235Z",
     "iopub.status.idle": "2022-11-09T11:47:23.988318Z",
     "shell.execute_reply": "2022-11-09T11:47:23.987093Z"
    },
    "papermill": {
     "duration": 0.400344,
     "end_time": "2022-11-09T11:47:23.991202",
     "exception": false,
     "start_time": "2022-11-09T11:47:23.590858",
     "status": "completed"
    },
    "tags": []
   },
   "outputs": [
    {
     "data": {
      "text/plain": [
       "<AxesSubplot:xlabel='target', ylabel='Density'>"
      ]
     },
     "execution_count": 21,
     "metadata": {},
     "output_type": "execute_result"
    },
    {
     "data": {
      "image/png": "[encoded data removed]",
      "text/plain": [
       "<Figure size 432x288 with 1 Axes>"
      ]
     },
     "metadata": {
      "needs_background": "light"
     },
     "output_type": "display_data"
    }
   ],
   "source": [
    "# target dependent variable\n",
    "sns.distplot(data.target, fit=norm)"
   ]
  },
  {
   "cell_type": "code",
   "execution_count": 22,
   "id": "f24b4db2",
   "metadata": {
    "execution": {
     "iopub.execute_input": "2022-11-09T11:47:24.036056Z",
     "iopub.status.busy": "2022-11-09T11:47:24.035639Z",
     "iopub.status.idle": "2022-11-09T11:47:24.041898Z",
     "shell.execute_reply": "2022-11-09T11:47:24.040667Z"
    },
    "papermill": {
     "duration": 0.031881,
     "end_time": "2022-11-09T11:47:24.044845",
     "exception": false,
     "start_time": "2022-11-09T11:47:24.012964",
     "status": "completed"
    },
    "tags": []
   },
   "outputs": [
    {
     "name": "stdout",
     "output_type": "stream",
     "text": [
      "mu: 23.472405063291134, sigma = 7.756119546409932\n"
     ]
    }
   ],
   "source": [
    "(mu, sigma) = norm.fit(data[\"target\"])\n",
    "print(\"mu: {}, sigma = {}\".format(mu, sigma))"
   ]
  },
  {
   "cell_type": "code",
   "execution_count": 23,
   "id": "a33e7686",
   "metadata": {
    "execution": {
     "iopub.execute_input": "2022-11-09T11:47:24.090118Z",
     "iopub.status.busy": "2022-11-09T11:47:24.088840Z",
     "iopub.status.idle": "2022-11-09T11:47:24.231082Z",
     "shell.execute_reply": "2022-11-09T11:47:24.230192Z"
    },
    "papermill": {
     "duration": 0.166653,
     "end_time": "2022-11-09T11:47:24.233369",
     "exception": false,
     "start_time": "2022-11-09T11:47:24.066716",
     "status": "completed"
    },
    "tags": []
   },
   "outputs": [
    {
     "data": {
      "image/png": "[encoded data removed]",
      "text/plain": [
       "<Figure size 432x288 with 1 Axes>"
      ]
     },
     "metadata": {
      "needs_background": "light"
     },
     "output_type": "display_data"
    }
   ],
   "source": [
    "## QQ plot\n",
    "plt.figure()\n",
    "stats.probplot(data[\"target\"], plot = plt)\n",
    "plt.show()"
   ]
  },
  {
   "cell_type": "code",
   "execution_count": 24,
   "id": "6bb4b0b5",
   "metadata": {
    "execution": {
     "iopub.execute_input": "2022-11-09T11:47:24.279062Z",
     "iopub.status.busy": "2022-11-09T11:47:24.277970Z",
     "iopub.status.idle": "2022-11-09T11:47:24.477030Z",
     "shell.execute_reply": "2022-11-09T11:47:24.476056Z"
    },
    "papermill": {
     "duration": 0.224918,
     "end_time": "2022-11-09T11:47:24.479562",
     "exception": false,
     "start_time": "2022-11-09T11:47:24.254644",
     "status": "completed"
    },
    "tags": []
   },
   "outputs": [
    {
     "data": {
      "text/plain": [
       "<AxesSubplot:xlabel='target', ylabel='Density'>"
      ]
     },
     "execution_count": 24,
     "metadata": {},
     "output_type": "execute_result"
    },
    {
     "data": {
      "image/png": "[encoded data removed]",
      "text/plain": [
       "<Figure size 432x288 with 1 Axes>"
      ]
     },
     "metadata": {
      "needs_background": "light"
     },
     "output_type": "display_data"
    }
   ],
   "source": [
    "# log transformation\n",
    "data[\"target\"] = np.log1p(data[\"target\"])\n",
    "\n",
    "# distribution after log transformation\n",
    "plt.figure()\n",
    "sns.distplot(data.target, fit=norm)"
   ]
  },
  {
   "cell_type": "code",
   "execution_count": 25,
   "id": "5b500a2d",
   "metadata": {
    "execution": {
     "iopub.execute_input": "2022-11-09T11:47:24.525444Z",
     "iopub.status.busy": "2022-11-09T11:47:24.525073Z",
     "iopub.status.idle": "2022-11-09T11:47:24.531527Z",
     "shell.execute_reply": "2022-11-09T11:47:24.530423Z"
    },
    "papermill": {
     "duration": 0.03194,
     "end_time": "2022-11-09T11:47:24.533797",
     "exception": false,
     "start_time": "2022-11-09T11:47:24.501857",
     "status": "completed"
    },
    "tags": []
   },
   "outputs": [
    {
     "name": "stdout",
     "output_type": "stream",
     "text": [
      "mu: 3.146474056830183, sigma = 0.3227569103044822\n"
     ]
    }
   ],
   "source": [
    "# mean and standard deviation after log transformation\n",
    "(mu, sigma) = norm.fit(data[\"target\"])\n",
    "print(\"mu: {}, sigma = {}\".format(mu, sigma))"
   ]
  },
  {
   "cell_type": "code",
   "execution_count": 26,
   "id": "d87ae47a",
   "metadata": {
    "execution": {
     "iopub.execute_input": "2022-11-09T11:47:24.579758Z",
     "iopub.status.busy": "2022-11-09T11:47:24.579370Z",
     "iopub.status.idle": "2022-11-09T11:47:24.733575Z",
     "shell.execute_reply": "2022-11-09T11:47:24.732418Z"
    },
    "papermill": {
     "duration": 0.179734,
     "end_time": "2022-11-09T11:47:24.735813",
     "exception": false,
     "start_time": "2022-11-09T11:47:24.556079",
     "status": "completed"
    },
    "tags": []
   },
   "outputs": [
    {
     "data": {
      "image/png": "[encoded data removed]",
      "text/plain": [
       "<Figure size 432x288 with 1 Axes>"
      ]
     },
     "metadata": {
      "needs_background": "light"
     },
     "output_type": "display_data"
    }
   ],
   "source": [
    "## QQ plot after log transformation\n",
    "plt.figure()\n",
    "stats.probplot(data[\"target\"], plot = plt)\n",
    "plt.show()"
   ]
  },
  {
   "cell_type": "code",
   "execution_count": 27,
   "id": "754bb0c1",
   "metadata": {
    "execution": {
     "iopub.execute_input": "2022-11-09T11:47:24.782811Z",
     "iopub.status.busy": "2022-11-09T11:47:24.782389Z",
     "iopub.status.idle": "2022-11-09T11:47:24.798395Z",
     "shell.execute_reply": "2022-11-09T11:47:24.797505Z"
    },
    "papermill": {
     "duration": 0.042302,
     "end_time": "2022-11-09T11:47:24.800432",
     "exception": false,
     "start_time": "2022-11-09T11:47:24.758130",
     "status": "completed"
    },
    "tags": []
   },
   "outputs": [
    {
     "data": {
      "text/html": [
       "<div>\n",
       "<style scoped>\n",
       "    .dataframe tbody tr th:only-of-type {\n",
       "        vertical-align: middle;\n",
       "    }\n",
       "\n",
       "    .dataframe tbody tr th {\n",
       "        vertical-align: top;\n",
       "    }\n",
       "\n",
       "    .dataframe thead th {\n",
       "        text-align: right;\n",
       "    }\n",
       "</style>\n",
       "<table border=\"1\" class=\"dataframe\">\n",
       "  <thead>\n",
       "    <tr style=\"text-align: right;\">\n",
       "      <th></th>\n",
       "      <th>skewed</th>\n",
       "    </tr>\n",
       "  </thead>\n",
       "  <tbody>\n",
       "    <tr>\n",
       "      <th>horsepower</th>\n",
       "      <td>1.067743</td>\n",
       "    </tr>\n",
       "    <tr>\n",
       "      <th>origin</th>\n",
       "      <td>0.923381</td>\n",
       "    </tr>\n",
       "    <tr>\n",
       "      <th>displacement</th>\n",
       "      <td>0.714682</td>\n",
       "    </tr>\n",
       "    <tr>\n",
       "      <th>weight</th>\n",
       "      <td>0.533226</td>\n",
       "    </tr>\n",
       "    <tr>\n",
       "      <th>cylinders</th>\n",
       "      <td>0.523374</td>\n",
       "    </tr>\n",
       "    <tr>\n",
       "      <th>acceleration</th>\n",
       "      <td>0.168986</td>\n",
       "    </tr>\n",
       "    <tr>\n",
       "      <th>model year</th>\n",
       "      <td>0.013098</td>\n",
       "    </tr>\n",
       "    <tr>\n",
       "      <th>target</th>\n",
       "      <td>-0.117687</td>\n",
       "    </tr>\n",
       "  </tbody>\n",
       "</table>\n",
       "</div>"
      ],
      "text/plain": [
       "                skewed\n",
       "horsepower    1.067743\n",
       "origin        0.923381\n",
       "displacement  0.714682\n",
       "weight        0.533226\n",
       "cylinders     0.523374\n",
       "acceleration  0.168986\n",
       "model year    0.013098\n",
       "target       -0.117687"
      ]
     },
     "execution_count": 27,
     "metadata": {},
     "output_type": "execute_result"
    }
   ],
   "source": [
    "# feature - independent variable\n",
    "skewed_feats = data.apply(lambda x: skew(x.dropna())).sort_values(ascending = False)\n",
    "skewness = pd.DataFrame(skewed_feats, columns = [\"skewed\"])\n",
    "skewness"
   ]
  },
  {
   "cell_type": "markdown",
   "id": "f524a0dd",
   "metadata": {
    "papermill": {
     "duration": 0.022344,
     "end_time": "2022-11-09T11:47:24.846198",
     "exception": false,
     "start_time": "2022-11-09T11:47:24.823854",
     "status": "completed"
    },
    "tags": []
   },
   "source": [
    "<a id = \"9\"></a>\n",
    "#### One Hot Encoding"
   ]
  },
  {
   "cell_type": "code",
   "execution_count": 28,
   "id": "f233f7b8",
   "metadata": {
    "execution": {
     "iopub.execute_input": "2022-11-09T11:47:24.893538Z",
     "iopub.status.busy": "2022-11-09T11:47:24.893127Z",
     "iopub.status.idle": "2022-11-09T11:47:24.923247Z",
     "shell.execute_reply": "2022-11-09T11:47:24.922056Z"
    },
    "papermill": {
     "duration": 0.056831,
     "end_time": "2022-11-09T11:47:24.925622",
     "exception": false,
     "start_time": "2022-11-09T11:47:24.868791",
     "status": "completed"
    },
    "tags": []
   },
   "outputs": [
    {
     "data": {
      "text/html": [
       "<div>\n",
       "<style scoped>\n",
       "    .dataframe tbody tr th:only-of-type {\n",
       "        vertical-align: middle;\n",
       "    }\n",
       "\n",
       "    .dataframe tbody tr th {\n",
       "        vertical-align: top;\n",
       "    }\n",
       "\n",
       "    .dataframe thead th {\n",
       "        text-align: right;\n",
       "    }\n",
       "</style>\n",
       "<table border=\"1\" class=\"dataframe\">\n",
       "  <thead>\n",
       "    <tr style=\"text-align: right;\">\n",
       "      <th></th>\n",
       "      <th>target</th>\n",
       "      <th>displacement</th>\n",
       "      <th>horsepower</th>\n",
       "      <th>weight</th>\n",
       "      <th>acceleration</th>\n",
       "      <th>model year</th>\n",
       "      <th>cylinders_3</th>\n",
       "      <th>cylinders_4</th>\n",
       "      <th>cylinders_5</th>\n",
       "      <th>cylinders_6</th>\n",
       "      <th>cylinders_8</th>\n",
       "      <th>origin_1</th>\n",
       "      <th>origin_2</th>\n",
       "      <th>origin_3</th>\n",
       "    </tr>\n",
       "  </thead>\n",
       "  <tbody>\n",
       "    <tr>\n",
       "      <th>0</th>\n",
       "      <td>2.944439</td>\n",
       "      <td>307.0</td>\n",
       "      <td>130.0</td>\n",
       "      <td>3504</td>\n",
       "      <td>12.0</td>\n",
       "      <td>70</td>\n",
       "      <td>0</td>\n",
       "      <td>0</td>\n",
       "      <td>0</td>\n",
       "      <td>0</td>\n",
       "      <td>1</td>\n",
       "      <td>1</td>\n",
       "      <td>0</td>\n",
       "      <td>0</td>\n",
       "    </tr>\n",
       "    <tr>\n",
       "      <th>1</th>\n",
       "      <td>2.772589</td>\n",
       "      <td>350.0</td>\n",
       "      <td>165.0</td>\n",
       "      <td>3693</td>\n",
       "      <td>11.5</td>\n",
       "      <td>70</td>\n",
       "      <td>0</td>\n",
       "      <td>0</td>\n",
       "      <td>0</td>\n",
       "      <td>0</td>\n",
       "      <td>1</td>\n",
       "      <td>1</td>\n",
       "      <td>0</td>\n",
       "      <td>0</td>\n",
       "    </tr>\n",
       "    <tr>\n",
       "      <th>2</th>\n",
       "      <td>2.944439</td>\n",
       "      <td>318.0</td>\n",
       "      <td>150.0</td>\n",
       "      <td>3436</td>\n",
       "      <td>11.0</td>\n",
       "      <td>70</td>\n",
       "      <td>0</td>\n",
       "      <td>0</td>\n",
       "      <td>0</td>\n",
       "      <td>0</td>\n",
       "      <td>1</td>\n",
       "      <td>1</td>\n",
       "      <td>0</td>\n",
       "      <td>0</td>\n",
       "    </tr>\n",
       "    <tr>\n",
       "      <th>3</th>\n",
       "      <td>2.833213</td>\n",
       "      <td>304.0</td>\n",
       "      <td>150.0</td>\n",
       "      <td>3433</td>\n",
       "      <td>12.0</td>\n",
       "      <td>70</td>\n",
       "      <td>0</td>\n",
       "      <td>0</td>\n",
       "      <td>0</td>\n",
       "      <td>0</td>\n",
       "      <td>1</td>\n",
       "      <td>1</td>\n",
       "      <td>0</td>\n",
       "      <td>0</td>\n",
       "    </tr>\n",
       "    <tr>\n",
       "      <th>4</th>\n",
       "      <td>2.890372</td>\n",
       "      <td>302.0</td>\n",
       "      <td>140.0</td>\n",
       "      <td>3449</td>\n",
       "      <td>10.5</td>\n",
       "      <td>70</td>\n",
       "      <td>0</td>\n",
       "      <td>0</td>\n",
       "      <td>0</td>\n",
       "      <td>0</td>\n",
       "      <td>1</td>\n",
       "      <td>1</td>\n",
       "      <td>0</td>\n",
       "      <td>0</td>\n",
       "    </tr>\n",
       "    <tr>\n",
       "      <th>...</th>\n",
       "      <td>...</td>\n",
       "      <td>...</td>\n",
       "      <td>...</td>\n",
       "      <td>...</td>\n",
       "      <td>...</td>\n",
       "      <td>...</td>\n",
       "      <td>...</td>\n",
       "      <td>...</td>\n",
       "      <td>...</td>\n",
       "      <td>...</td>\n",
       "      <td>...</td>\n",
       "      <td>...</td>\n",
       "      <td>...</td>\n",
       "      <td>...</td>\n",
       "    </tr>\n",
       "    <tr>\n",
       "      <th>392</th>\n",
       "      <td>3.332205</td>\n",
       "      <td>151.0</td>\n",
       "      <td>90.0</td>\n",
       "      <td>2950</td>\n",
       "      <td>17.3</td>\n",
       "      <td>82</td>\n",
       "      <td>0</td>\n",
       "      <td>1</td>\n",
       "      <td>0</td>\n",
       "      <td>0</td>\n",
       "      <td>0</td>\n",
       "      <td>1</td>\n",
       "      <td>0</td>\n",
       "      <td>0</td>\n",
       "    </tr>\n",
       "    <tr>\n",
       "      <th>393</th>\n",
       "      <td>3.332205</td>\n",
       "      <td>140.0</td>\n",
       "      <td>86.0</td>\n",
       "      <td>2790</td>\n",
       "      <td>15.6</td>\n",
       "      <td>82</td>\n",
       "      <td>0</td>\n",
       "      <td>1</td>\n",
       "      <td>0</td>\n",
       "      <td>0</td>\n",
       "      <td>0</td>\n",
       "      <td>1</td>\n",
       "      <td>0</td>\n",
       "      <td>0</td>\n",
       "    </tr>\n",
       "    <tr>\n",
       "      <th>395</th>\n",
       "      <td>3.496508</td>\n",
       "      <td>135.0</td>\n",
       "      <td>84.0</td>\n",
       "      <td>2295</td>\n",
       "      <td>11.6</td>\n",
       "      <td>82</td>\n",
       "      <td>0</td>\n",
       "      <td>1</td>\n",
       "      <td>0</td>\n",
       "      <td>0</td>\n",
       "      <td>0</td>\n",
       "      <td>1</td>\n",
       "      <td>0</td>\n",
       "      <td>0</td>\n",
       "    </tr>\n",
       "    <tr>\n",
       "      <th>396</th>\n",
       "      <td>3.367296</td>\n",
       "      <td>120.0</td>\n",
       "      <td>79.0</td>\n",
       "      <td>2625</td>\n",
       "      <td>18.6</td>\n",
       "      <td>82</td>\n",
       "      <td>0</td>\n",
       "      <td>1</td>\n",
       "      <td>0</td>\n",
       "      <td>0</td>\n",
       "      <td>0</td>\n",
       "      <td>1</td>\n",
       "      <td>0</td>\n",
       "      <td>0</td>\n",
       "    </tr>\n",
       "    <tr>\n",
       "      <th>397</th>\n",
       "      <td>3.465736</td>\n",
       "      <td>119.0</td>\n",
       "      <td>82.0</td>\n",
       "      <td>2720</td>\n",
       "      <td>19.4</td>\n",
       "      <td>82</td>\n",
       "      <td>0</td>\n",
       "      <td>1</td>\n",
       "      <td>0</td>\n",
       "      <td>0</td>\n",
       "      <td>0</td>\n",
       "      <td>1</td>\n",
       "      <td>0</td>\n",
       "      <td>0</td>\n",
       "    </tr>\n",
       "  </tbody>\n",
       "</table>\n",
       "<p>395 rows × 14 columns</p>\n",
       "</div>"
      ],
      "text/plain": [
       "       target  displacement  horsepower  weight  acceleration  model year  \\\n",
       "0    2.944439         307.0       130.0    3504          12.0          70   \n",
       "1    2.772589         350.0       165.0    3693          11.5          70   \n",
       "2    2.944439         318.0       150.0    3436          11.0          70   \n",
       "3    2.833213         304.0       150.0    3433          12.0          70   \n",
       "4    2.890372         302.0       140.0    3449          10.5          70   \n",
       "..        ...           ...         ...     ...           ...         ...   \n",
       "392  3.332205         151.0        90.0    2950          17.3          82   \n",
       "393  3.332205         140.0        86.0    2790          15.6          82   \n",
       "395  3.496508         135.0        84.0    2295          11.6          82   \n",
       "396  3.367296         120.0        79.0    2625          18.6          82   \n",
       "397  3.465736         119.0        82.0    2720          19.4          82   \n",
       "\n",
       "     cylinders_3  cylinders_4  cylinders_5  cylinders_6  cylinders_8  \\\n",
       "0              0            0            0            0            1   \n",
       "1              0            0            0            0            1   \n",
       "2              0            0            0            0            1   \n",
       "3              0            0            0            0            1   \n",
       "4              0            0            0            0            1   \n",
       "..           ...          ...          ...          ...          ...   \n",
       "392            0            1            0            0            0   \n",
       "393            0            1            0            0            0   \n",
       "395            0            1            0            0            0   \n",
       "396            0            1            0            0            0   \n",
       "397            0            1            0            0            0   \n",
       "\n",
       "     origin_1  origin_2  origin_3  \n",
       "0           1         0         0  \n",
       "1           1         0         0  \n",
       "2           1         0         0  \n",
       "3           1         0         0  \n",
       "4           1         0         0  \n",
       "..        ...       ...       ...  \n",
       "392         1         0         0  \n",
       "393         1         0         0  \n",
       "395         1         0         0  \n",
       "396         1         0         0  \n",
       "397         1         0         0  \n",
       "\n",
       "[395 rows x 14 columns]"
      ]
     },
     "execution_count": 28,
     "metadata": {},
     "output_type": "execute_result"
    }
   ],
   "source": [
    "data[\"cylinders\"] = data[\"cylinders\"].astype(str)\n",
    "data[\"origin\"] = data[\"origin\"].astype(str)\n",
    "\n",
    "data = pd.get_dummies(data)\n",
    "data"
   ]
  },
  {
   "cell_type": "markdown",
   "id": "949ae9d4",
   "metadata": {
    "papermill": {
     "duration": 0.023356,
     "end_time": "2022-11-09T11:47:24.971871",
     "exception": false,
     "start_time": "2022-11-09T11:47:24.948515",
     "status": "completed"
    },
    "tags": []
   },
   "source": [
    "<a id = \"10\"></a>\n",
    "### Data Preprocessing\n",
    "<a id = \"11\"></a>\n",
    "#### Train Test Split"
   ]
  },
  {
   "cell_type": "code",
   "execution_count": 29,
   "id": "e79a7fc6",
   "metadata": {
    "execution": {
     "iopub.execute_input": "2022-11-09T11:47:25.021312Z",
     "iopub.status.busy": "2022-11-09T11:47:25.020733Z",
     "iopub.status.idle": "2022-11-09T11:47:25.027504Z",
     "shell.execute_reply": "2022-11-09T11:47:25.026693Z"
    },
    "papermill": {
     "duration": 0.034935,
     "end_time": "2022-11-09T11:47:25.029626",
     "exception": false,
     "start_time": "2022-11-09T11:47:24.994691",
     "status": "completed"
    },
    "tags": []
   },
   "outputs": [],
   "source": [
    "y = data.target\n",
    "x = data.drop([\"target\"], axis = 1)"
   ]
  },
  {
   "cell_type": "code",
   "execution_count": 30,
   "id": "c190096b",
   "metadata": {
    "execution": {
     "iopub.execute_input": "2022-11-09T11:47:25.078233Z",
     "iopub.status.busy": "2022-11-09T11:47:25.077086Z",
     "iopub.status.idle": "2022-11-09T11:47:25.083722Z",
     "shell.execute_reply": "2022-11-09T11:47:25.082886Z"
    },
    "papermill": {
     "duration": 0.033051,
     "end_time": "2022-11-09T11:47:25.085813",
     "exception": false,
     "start_time": "2022-11-09T11:47:25.052762",
     "status": "completed"
    },
    "tags": []
   },
   "outputs": [],
   "source": [
    "test_size = 0.9\n",
    "X_train, X_test, Y_train, Y_test = train_test_split(x, y, test_size = test_size, random_state = 42)"
   ]
  },
  {
   "cell_type": "markdown",
   "id": "41c18669",
   "metadata": {
    "papermill": {
     "duration": 0.023547,
     "end_time": "2022-11-09T11:47:25.132104",
     "exception": false,
     "start_time": "2022-11-09T11:47:25.108557",
     "status": "completed"
    },
    "tags": []
   },
   "source": [
    "<a id = \"12\"></a>\n",
    "#### Standardization"
   ]
  },
  {
   "cell_type": "code",
   "execution_count": 31,
   "id": "43655e9a",
   "metadata": {
    "execution": {
     "iopub.execute_input": "2022-11-09T11:47:25.179732Z",
     "iopub.status.busy": "2022-11-09T11:47:25.178822Z",
     "iopub.status.idle": "2022-11-09T11:47:25.188889Z",
     "shell.execute_reply": "2022-11-09T11:47:25.188124Z"
    },
    "papermill": {
     "duration": 0.036374,
     "end_time": "2022-11-09T11:47:25.191153",
     "exception": false,
     "start_time": "2022-11-09T11:47:25.154779",
     "status": "completed"
    },
    "tags": []
   },
   "outputs": [],
   "source": [
    "scaler = StandardScaler()\n",
    "X_train = scaler.fit_transform(X_train)\n",
    "X_test = scaler.transform(X_test)"
   ]
  },
  {
   "cell_type": "markdown",
   "id": "6bf08f46",
   "metadata": {
    "papermill": {
     "duration": 0.022758,
     "end_time": "2022-11-09T11:47:25.236524",
     "exception": false,
     "start_time": "2022-11-09T11:47:25.213766",
     "status": "completed"
    },
    "tags": []
   },
   "source": [
    "<a id = \"13\"></a>\n",
    "### Model\n",
    "<a id = \"14\"></a>\n",
    "#### Linear Regression"
   ]
  },
  {
   "cell_type": "code",
   "execution_count": null,
   "id": "dcec9d98",
   "metadata": {
    "papermill": {
     "duration": 0.023433,
     "end_time": "2022-11-09T11:47:25.282694",
     "exception": false,
     "start_time": "2022-11-09T11:47:25.259261",
     "status": "completed"
    },
    "tags": []
   },
   "outputs": [],
   "source": []
  }
 ],
 "metadata": {
  "kernelspec": {
   "display_name": "Python 3",
   "language": "python",
   "name": "python3"
  },
  "language_info": {
   "codemirror_mode": {
    "name": "ipython",
    "version": 3
   },
   "file_extension": ".py",
   "mimetype": "text/x-python",
   "name": "python",
   "nbconvert_exporter": "python",
   "pygments_lexer": "ipython3",
   "version": "3.7.12"
  },
  "papermill": {
   "default_parameters": {},
   "duration": 21.908585,
   "end_time": "2022-11-09T11:47:26.228424",
   "environment_variables": {},
   "exception": null,
   "input_path": "__notebook__.ipynb",
   "output_path": "__notebook__.ipynb",
   "parameters": {},
   "start_time": "2022-11-09T11:47:04.319839",
   "version": "2.3.4"
  }
 },
 "nbformat": 4,
 "nbformat_minor": 5
}
